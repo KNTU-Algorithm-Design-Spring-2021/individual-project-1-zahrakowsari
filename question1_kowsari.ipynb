{
 "cells": [
  {
   "cell_type": "code",
   "execution_count": 1,
   "metadata": {},
   "outputs": [
    {
     "name": "stdout",
     "output_type": "stream",
     "text": [
      "Enter the number of points:10\n"
     ]
    }
   ],
   "source": [
    "n=int(input(\"Enter the number of points:\")) "
   ]
  },
  {
   "cell_type": "code",
   "execution_count": 2,
   "metadata": {},
   "outputs": [
    {
     "name": "stdout",
     "output_type": "stream",
     "text": [
      "Enter the x-cordinate of the points and then y-cordinate in a single line (separated by space) :-1 52 -47 41 28 -12 65 28 123 41 258 25 -78 -14 -41 52 25 74 -14 20\n"
     ]
    }
   ],
   "source": [
    "points = list(map(int, input(\"Enter the x-cordinate of the points and then y-cordinate in a single line (separated by space) :\").split()))"
   ]
  },
  {
   "cell_type": "code",
   "execution_count": 3,
   "metadata": {},
   "outputs": [
    {
     "data": {
      "text/plain": [
       "array([[ -1,  52, -47,  41,  28, -12,  65,  28, 123,  41],\n",
       "       [258,  25, -78, -14, -41,  52,  25,  74, -14,  20]])"
      ]
     },
     "execution_count": 3,
     "metadata": {},
     "output_type": "execute_result"
    }
   ],
   "source": [
    "import numpy as np\n",
    "matrix = np.array(points).reshape(2, n)\n",
    "matrix"
   ]
  },
  {
   "cell_type": "code",
   "execution_count": 4,
   "metadata": {},
   "outputs": [],
   "source": [
    "x=matrix[0,:]\n",
    "y=matrix[1,:]"
   ]
  },
  {
   "cell_type": "code",
   "execution_count": 5,
   "metadata": {},
   "outputs": [],
   "source": [
    "def getMinMax(arr):\n",
    "\n",
    "    n = len(arr)\n",
    "    \n",
    "    if(n % 2 == 0):\n",
    "        mx = max(arr[0], arr[1])\n",
    "        mn = min(arr[0], arr[1])\n",
    "        i = 2\n",
    "    else:\n",
    "        mx = mn = arr[0]\n",
    "        i = 1\n",
    "    while(i < n - 1):\n",
    "        if arr[i] < arr[i + 1]:\n",
    "            mx = max(mx, arr[i + 1])\n",
    "            mn = min(mn, arr[i])\n",
    "        else:\n",
    "            mx = max(mx, arr[i])\n",
    "            mn = min(mn, arr[i + 1])\n",
    "         \n",
    "        i += 2\n",
    "    return (mx, mn)"
   ]
  },
  {
   "cell_type": "code",
   "execution_count": 6,
   "metadata": {},
   "outputs": [],
   "source": [
    "maxx, minx = getMinMax(x)\n",
    "maxy, miny = getMinMax(y)"
   ]
  },
  {
   "cell_type": "code",
   "execution_count": 7,
   "metadata": {},
   "outputs": [
    {
     "name": "stdout",
     "output_type": "stream",
     "text": [
      "cordinates of rectangular slides:\n",
      "x= -47\n",
      "x= 123\n",
      "y= -78\n",
      "y= 258\n"
     ]
    }
   ],
   "source": [
    "print(\"cordinates of rectangular slides:\")\n",
    "print(\"x=\",minx) \n",
    "print(\"x=\",maxx) \n",
    "print(\"y=\",miny) \n",
    "print(\"y=\",maxy) "
   ]
  },
  {
   "cell_type": "code",
   "execution_count": 8,
   "metadata": {},
   "outputs": [],
   "source": [
    "import matplotlib.pyplot as plt"
   ]
  },
  {
   "cell_type": "code",
   "execution_count": 9,
   "metadata": {},
   "outputs": [
    {
     "data": {
      "text/plain": [
       "[<matplotlib.lines.Line2D at 0xa4af058>]"
      ]
     },
     "execution_count": 9,
     "metadata": {},
     "output_type": "execute_result"
    },
    {
     "data": {
      "image/png": "[encoded data removed]",
      "text/plain": [
       "<Figure size 432x288 with 1 Axes>"
      ]
     },
     "metadata": {
      "needs_background": "light"
     },
     "output_type": "display_data"
    }
   ],
   "source": [
    "plt.scatter(x,y,c='r')\n",
    "plt.plot([minx,minx],[miny,maxy],c='g')\n",
    "plt.plot([maxx,maxx],[miny,maxy],c='g')\n",
    "plt.plot([minx,maxx],[miny,miny],c='g')\n",
    "plt.plot([minx,maxx],[maxy,maxy],c='g')"
   ]
  },
  {
   "cell_type": "code",
   "execution_count": null,
   "metadata": {},
   "outputs": [],
   "source": []
  }
 ],
 "metadata": {
  "kernelspec": {
   "display_name": "Python 3",
   "language": "python",
   "name": "python3"
  },
  "language_info": {
   "codemirror_mode": {
    "name": "ipython",
    "version": 3
   },
   "file_extension": ".py",
   "mimetype": "text/x-python",
   "name": "python",
   "nbconvert_exporter": "python",
   "pygments_lexer": "ipython3",
   "version": "3.8.3"
  }
 },
 "nbformat": 4,
 "nbformat_minor": 4
}
